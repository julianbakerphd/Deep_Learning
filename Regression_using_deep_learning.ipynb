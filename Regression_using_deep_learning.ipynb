{
 "cells": [
  {
   "cell_type": "code",
   "execution_count": 3,
   "metadata": {},
   "outputs": [],
   "source": [
    "import tensorflow\n",
    "from tensorflow.keras.datasets import boston_housing\n",
    "from tensorflow.keras.models import Sequential\n",
    "from tensorflow.keras.layers import Dense, Dropout\n",
    "from tensorflow.keras.layers import BatchNormalization\n",
    "from tensorflow.keras.callbacks import ModelCheckpoint\n",
    "import os"
   ]
  },
  {
   "cell_type": "code",
   "execution_count": 4,
   "metadata": {},
   "outputs": [
    {
     "name": "stdout",
     "output_type": "stream",
     "text": [
      "Downloading data from https://storage.googleapis.com/tensorflow/tf-keras-datasets/boston_housing.npz\n",
      "57344/57026 [==============================] - 0s 1us/step\n"
     ]
    }
   ],
   "source": [
    "(X_train, y_train), (X_valid, y_valid) = boston_housing.load_data()"
   ]
  },
  {
   "cell_type": "code",
   "execution_count": 5,
   "metadata": {},
   "outputs": [
    {
     "data": {
      "text/plain": [
       "(404, 13)"
      ]
     },
     "execution_count": 5,
     "metadata": {},
     "output_type": "execute_result"
    }
   ],
   "source": [
    "X_train.shape"
   ]
  },
  {
   "cell_type": "code",
   "execution_count": 6,
   "metadata": {},
   "outputs": [
    {
     "data": {
      "text/plain": [
       "(404,)"
      ]
     },
     "execution_count": 6,
     "metadata": {},
     "output_type": "execute_result"
    }
   ],
   "source": [
    "y_train.shape"
   ]
  },
  {
   "cell_type": "code",
   "execution_count": 7,
   "metadata": {},
   "outputs": [
    {
     "data": {
      "text/plain": [
       "(102, 13)"
      ]
     },
     "execution_count": 7,
     "metadata": {},
     "output_type": "execute_result"
    }
   ],
   "source": [
    "X_valid.shape"
   ]
  },
  {
   "cell_type": "markdown",
   "metadata": {},
   "source": [
    "#### Design NN arch"
   ]
  },
  {
   "cell_type": "code",
   "execution_count": 8,
   "metadata": {},
   "outputs": [],
   "source": [
    "model = Sequential()\n",
    "# first hidden layer\n",
    "model.add(Dense(32, input_dim=13, activation='relu'))\n",
    "model.add(BatchNormalization())\n",
    "\n",
    "# second hidden layer\n",
    "model.add(Dense(16, activation='relu'))\n",
    "model.add(BatchNormalization())\n",
    "model.add(Dropout(0.2))\n",
    "\n",
    "\n",
    "# output layer\n",
    "model.add(Dense(1, activation=\"linear\"))\n",
    "\n"
   ]
  },
  {
   "cell_type": "code",
   "execution_count": 9,
   "metadata": {},
   "outputs": [
    {
     "name": "stdout",
     "output_type": "stream",
     "text": [
      "Model: \"sequential\"\n",
      "_________________________________________________________________\n",
      "Layer (type)                 Output Shape              Param #   \n",
      "=================================================================\n",
      "dense (Dense)                (None, 32)                448       \n",
      "_________________________________________________________________\n",
      "batch_normalization (BatchNo (None, 32)                128       \n",
      "_________________________________________________________________\n",
      "dense_1 (Dense)              (None, 16)                528       \n",
      "_________________________________________________________________\n",
      "batch_normalization_1 (Batch (None, 16)                64        \n",
      "_________________________________________________________________\n",
      "dropout (Dropout)            (None, 16)                0         \n",
      "_________________________________________________________________\n",
      "dense_2 (Dense)              (None, 1)                 17        \n",
      "=================================================================\n",
      "Total params: 1,185\n",
      "Trainable params: 1,089\n",
      "Non-trainable params: 96\n",
      "_________________________________________________________________\n"
     ]
    }
   ],
   "source": [
    "model.summary()"
   ]
  },
  {
   "cell_type": "markdown",
   "metadata": {},
   "source": [
    "#### Compile the model"
   ]
  },
  {
   "cell_type": "code",
   "execution_count": 11,
   "metadata": {},
   "outputs": [],
   "source": [
    "model.compile(loss='mean_squared_error', optimizer='nadam')"
   ]
  },
  {
   "cell_type": "code",
   "execution_count": 14,
   "metadata": {},
   "outputs": [],
   "source": [
    "output_dir = 'model_output/'"
   ]
  },
  {
   "cell_type": "code",
   "execution_count": 16,
   "metadata": {},
   "outputs": [],
   "source": [
    "run_name = 'regression_baseline'\n",
    "output_path = output_dir + run_name"
   ]
  },
  {
   "cell_type": "code",
   "execution_count": 17,
   "metadata": {},
   "outputs": [],
   "source": [
    "if not os.path.exists(output_path):\n",
    "    os.makedirs(output_path)"
   ]
  },
  {
   "cell_type": "code",
   "execution_count": 18,
   "metadata": {},
   "outputs": [],
   "source": [
    "modelcheckpoint = ModelCheckpoint(output_path + '/weights.{epoch:02d}.hdf5', save_weights_only=True)"
   ]
  },
  {
   "cell_type": "markdown",
   "metadata": {},
   "source": [
    "#### Train"
   ]
  },
  {
   "cell_type": "code",
   "execution_count": 19,
   "metadata": {},
   "outputs": [
    {
     "name": "stdout",
     "output_type": "stream",
     "text": [
      "Epoch 1/32\n",
      "51/51 [==============================] - 0s 4ms/step - loss: 574.4006 - val_loss: 664.9224\n",
      "Epoch 2/32\n",
      "51/51 [==============================] - 0s 2ms/step - loss: 554.4882 - val_loss: 621.1453\n",
      "Epoch 3/32\n",
      "51/51 [==============================] - 0s 2ms/step - loss: 537.5522 - val_loss: 575.5438\n",
      "Epoch 4/32\n",
      "51/51 [==============================] - 0s 2ms/step - loss: 513.6860 - val_loss: 529.6591\n",
      "Epoch 5/32\n",
      "51/51 [==============================] - 0s 2ms/step - loss: 490.6554 - val_loss: 498.0665\n",
      "Epoch 6/32\n",
      "51/51 [==============================] - 0s 2ms/step - loss: 467.4824 - val_loss: 459.0027\n",
      "Epoch 7/32\n",
      "51/51 [==============================] - 0s 2ms/step - loss: 433.1486 - val_loss: 441.9400\n",
      "Epoch 8/32\n",
      "51/51 [==============================] - 0s 2ms/step - loss: 398.8959 - val_loss: 398.5700\n",
      "Epoch 9/32\n",
      "51/51 [==============================] - 0s 2ms/step - loss: 369.9887 - val_loss: 385.4861\n",
      "Epoch 10/32\n",
      "51/51 [==============================] - 0s 2ms/step - loss: 321.0676 - val_loss: 336.8210\n",
      "Epoch 11/32\n",
      "51/51 [==============================] - 0s 2ms/step - loss: 282.7050 - val_loss: 323.8267\n",
      "Epoch 12/32\n",
      "51/51 [==============================] - 0s 2ms/step - loss: 240.5963 - val_loss: 287.8494\n",
      "Epoch 13/32\n",
      "51/51 [==============================] - 0s 2ms/step - loss: 209.9653 - val_loss: 231.1776\n",
      "Epoch 14/32\n",
      "51/51 [==============================] - 0s 2ms/step - loss: 171.4641 - val_loss: 205.6478\n",
      "Epoch 15/32\n",
      "51/51 [==============================] - 0s 2ms/step - loss: 137.8695 - val_loss: 167.4901\n",
      "Epoch 16/32\n",
      "51/51 [==============================] - 0s 2ms/step - loss: 122.0011 - val_loss: 141.4971\n",
      "Epoch 17/32\n",
      "51/51 [==============================] - 0s 2ms/step - loss: 103.8958 - val_loss: 115.1333\n",
      "Epoch 18/32\n",
      "51/51 [==============================] - 0s 2ms/step - loss: 86.3365 - val_loss: 99.1506\n",
      "Epoch 19/32\n",
      "51/51 [==============================] - 0s 2ms/step - loss: 75.4867 - val_loss: 81.2766\n",
      "Epoch 20/32\n",
      "51/51 [==============================] - 0s 2ms/step - loss: 66.6941 - val_loss: 49.7632\n",
      "Epoch 21/32\n",
      "51/51 [==============================] - 0s 2ms/step - loss: 63.7788 - val_loss: 45.9038\n",
      "Epoch 22/32\n",
      "51/51 [==============================] - 0s 2ms/step - loss: 59.4137 - val_loss: 45.5093\n",
      "Epoch 23/32\n",
      "51/51 [==============================] - 0s 2ms/step - loss: 45.2338 - val_loss: 37.3214\n",
      "Epoch 24/32\n",
      "51/51 [==============================] - 0s 2ms/step - loss: 55.9735 - val_loss: 32.3555\n",
      "Epoch 25/32\n",
      "51/51 [==============================] - 0s 2ms/step - loss: 57.0207 - val_loss: 34.5340\n",
      "Epoch 26/32\n",
      "51/51 [==============================] - 0s 2ms/step - loss: 47.9346 - val_loss: 38.4761\n",
      "Epoch 27/32\n",
      "51/51 [==============================] - 0s 2ms/step - loss: 51.0464 - val_loss: 34.0872\n",
      "Epoch 28/32\n",
      "51/51 [==============================] - 0s 2ms/step - loss: 56.4632 - val_loss: 33.1401\n",
      "Epoch 29/32\n",
      "51/51 [==============================] - 0s 2ms/step - loss: 41.2677 - val_loss: 38.1482\n",
      "Epoch 30/32\n",
      "51/51 [==============================] - 0s 2ms/step - loss: 44.6842 - val_loss: 39.7735\n",
      "Epoch 31/32\n",
      "51/51 [==============================] - 0s 2ms/step - loss: 41.9461 - val_loss: 34.5404\n",
      "Epoch 32/32\n",
      "51/51 [==============================] - 0s 2ms/step - loss: 41.0148 - val_loss: 34.6286\n"
     ]
    },
    {
     "data": {
      "text/plain": [
       "<tensorflow.python.keras.callbacks.History at 0x7fd5a0f94110>"
      ]
     },
     "execution_count": 19,
     "metadata": {},
     "output_type": "execute_result"
    }
   ],
   "source": [
    "model.fit(X_train, y_train, batch_size=8, epochs=32, verbose=1, validation_data=(X_valid, y_valid), callbacks=[modelcheckpoint])"
   ]
  },
  {
   "cell_type": "code",
   "execution_count": 20,
   "metadata": {},
   "outputs": [],
   "source": [
    "model.load_weights(output_path + '/weights.28.hdf5')"
   ]
  },
  {
   "cell_type": "code",
   "execution_count": 21,
   "metadata": {},
   "outputs": [
    {
     "data": {
      "text/plain": [
       "array([  9.32909,   0.     ,  18.1    ,   0.     ,   0.713  ,   6.185  ,\n",
       "        98.7    ,   2.2616 ,  24.     , 666.     ,  20.2    , 396.9    ,\n",
       "        18.13   ])"
      ]
     },
     "execution_count": 21,
     "metadata": {},
     "output_type": "execute_result"
    }
   ],
   "source": [
    "X_valid[42]"
   ]
  },
  {
   "cell_type": "code",
   "execution_count": 22,
   "metadata": {},
   "outputs": [
    {
     "data": {
      "text/plain": [
       "14.1"
      ]
     },
     "execution_count": 22,
     "metadata": {},
     "output_type": "execute_result"
    }
   ],
   "source": [
    "y_valid[42]"
   ]
  },
  {
   "cell_type": "code",
   "execution_count": 24,
   "metadata": {},
   "outputs": [
    {
     "data": {
      "text/plain": [
       "array([[19.05842]], dtype=float32)"
      ]
     },
     "execution_count": 24,
     "metadata": {},
     "output_type": "execute_result"
    }
   ],
   "source": [
    "import numpy as np\n",
    "model.predict(np.reshape(X_valid[42], [1,13]))"
   ]
  },
  {
   "cell_type": "code",
   "execution_count": null,
   "metadata": {},
   "outputs": [],
   "source": []
  }
 ],
 "metadata": {
  "kernelspec": {
   "display_name": "Python (py3-TF2.0)",
   "language": "python",
   "name": "py3-tf2.0"
  },
  "language_info": {
   "codemirror_mode": {
    "name": "ipython",
    "version": 3
   },
   "file_extension": ".py",
   "mimetype": "text/x-python",
   "name": "python",
   "nbconvert_exporter": "python",
   "pygments_lexer": "ipython3",
   "version": "3.7.9"
  }
 },
 "nbformat": 4,
 "nbformat_minor": 4
}
